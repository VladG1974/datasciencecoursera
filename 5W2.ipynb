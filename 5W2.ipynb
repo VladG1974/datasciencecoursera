{
 "cells": [
  {
   "cell_type": "markdown",
   "metadata": {},
   "source": [
    "Programming Assignment: Рекомендательные системы\n",
    "Описание задачи\n",
    "\n",
    "Небольшой интернет-магазин попросил вас добавить ранжирование товаров в блок \"Смотрели ранее\" - в нем теперь надо показывать не последние просмотренные пользователем товары, а те товары из просмотренных, которые он наиболее вероятно купит. Качество вашего решения будет оцениваться по количеству покупок в сравнении с прошлым решением в ходе А/В теста, т.к. по доходу от продаж статзначимость будет достигаться дольше из-за разброса цен. Таким образом, ничего заранее не зная про корреляцию оффлайновых и онлайновых метрик качества, в начале проекта вы можете лишь постараться оптимизировать recall@k и precision@k.\n",
    "\n",
    "Это задание посвящено построению простых бейзлайнов для этой задачи: ранжирование просмотренных товаров по частоте просмотров и по частоте покупок. Эти бейзлайны, с одной стороны, могут помочь вам грубо оценить возможный эффект от ранжирования товаров в блоке - например, чтобы вписать какие-то числа в коммерческое предложение заказчику, а с другой стороны, могут оказаться самым хорошим вариантом, если данных очень мало (недостаточно для обучения даже простых моделей).\n",
    "\n",
    "Входные данные\n",
    "\n",
    "Вам дается две выборки с пользовательскими сессиями - id-шниками просмотренных и id-шниками купленных товаров. Одна выборка будет использоваться для обучения (оценки популярностей товаров), а другая - для теста.\n",
    "\n",
    "В файлах записаны сессии по одной в каждой строке. Формат сессии: id просмотренных товаров через , затем идёт ; после чего следуют id купленных товаров (если такие имеются), разделённые запятой. Например, 1,2,3,4; или 1,2,3,4;5,6.\n",
    "\n",
    "Гарантируется, что среди id купленных товаров все различные.\n",
    "\n",
    "Важно:\n",
    "\n",
    "    Сессии, в которых пользователь ничего не купил, исключаем из оценки качества.\n",
    "    Если товар не встречался в обучающей выборке, его популярность равна 0.\n",
    "    Рекомендуем разные товары. И их число должно быть не больше, чем количество различных просмотренных пользователем товаров.\n",
    "    Рекомендаций всегда не больше, чем минимум из двух чисел: количество просмотренных пользователем товаров и k в recall@k / precision@k.\n",
    "\n",
    "Задание\n",
    "\n",
    "    На обучении постройте частоты появления id в просмотренных и в купленных (id может несколько раз появляться в просмотренных, все появления надо учитывать)\n",
    "    Реализуйте два алгоритма рекомендаций:\n",
    "\n",
    "    сортировка просмотренных id по популярности (частота появления в просмотренных),\n",
    "    сортировка просмотренных id по покупаемости (частота появления в покупках).\n",
    "\n",
    "3. Для данных алгоритмов выпишите через пробел AverageRecall@1, AveragePrecision@1, AverageRecall@5, AveragePrecision@5 на обучающей и тестовых выборках, округляя до 2 знака после запятой. Это будут ваши ответы в этом задании. Посмотрите, как они соотносятся друг с другом. Где качество получилось выше? Значимо ли это различие? Обратите внимание на различие качества на обучающей и тестовой выборке в случае рекомендаций по частотам покупки.\n",
    "\n",
    "Если частота одинаковая, то сортировать нужно по возрастанию момента просмотра (чем раньше появился в просмотренных, тем больше приоритет)\n",
    "\n",
    "Дополнительные вопросы\n",
    "\n",
    "    Обратите внимание, что при сортировке по покупаемости возникает много товаров с одинаковым рангом - это означает, что значение метрик будет зависеть от того, как мы будем сортировать товары с одинаковым рангом. Попробуйте убедиться, что при изменении сортировки таких товаров recall@k меняется. Подумайте, как оценить минимальное и максимальное значение recall@k в зависимости от правила сортировки.\n",
    "    Мы обучаемся и тестируемся на полных сессиях (в которых есть все просмотренные за сессию товары). Подумайте, почему полученная нами оценка качества рекомендаций в этом случае несколько завышена.\n",
    "\n"
   ]
  },
  {
   "cell_type": "code",
   "execution_count": 2,
   "metadata": {
    "collapsed": true
   },
   "outputs": [],
   "source": [
    "import numpy as np\n",
    "import pandas as pd"
   ]
  },
  {
   "cell_type": "code",
   "execution_count": 3,
   "metadata": {
    "collapsed": true
   },
   "outputs": [],
   "source": [
    "data = pd.read_csv(\"coursera_sessions_train.txt\", sep=';', header=None)"
   ]
  },
  {
   "cell_type": "code",
   "execution_count": 4,
   "metadata": {},
   "outputs": [
    {
     "data": {
      "text/html": [
       "<div>\n",
       "<style>\n",
       "    .dataframe thead tr:only-child th {\n",
       "        text-align: right;\n",
       "    }\n",
       "\n",
       "    .dataframe thead th {\n",
       "        text-align: left;\n",
       "    }\n",
       "\n",
       "    .dataframe tbody tr th {\n",
       "        vertical-align: top;\n",
       "    }\n",
       "</style>\n",
       "<table border=\"1\" class=\"dataframe\">\n",
       "  <thead>\n",
       "    <tr style=\"text-align: right;\">\n",
       "      <th></th>\n",
       "      <th>0</th>\n",
       "      <th>1</th>\n",
       "    </tr>\n",
       "  </thead>\n",
       "  <tbody>\n",
       "    <tr>\n",
       "      <th>0</th>\n",
       "      <td>0,1,2,3,4,5</td>\n",
       "      <td>NaN</td>\n",
       "    </tr>\n",
       "    <tr>\n",
       "      <th>1</th>\n",
       "      <td>9,10,11,9,11,12,9,11</td>\n",
       "      <td>NaN</td>\n",
       "    </tr>\n",
       "    <tr>\n",
       "      <th>2</th>\n",
       "      <td>16,17,18,19,20,21</td>\n",
       "      <td>NaN</td>\n",
       "    </tr>\n",
       "    <tr>\n",
       "      <th>3</th>\n",
       "      <td>24,25,26,27,24</td>\n",
       "      <td>NaN</td>\n",
       "    </tr>\n",
       "    <tr>\n",
       "      <th>4</th>\n",
       "      <td>34,35,36,34,37,35,36,37,38,39,38,39</td>\n",
       "      <td>NaN</td>\n",
       "    </tr>\n",
       "  </tbody>\n",
       "</table>\n",
       "</div>"
      ],
      "text/plain": [
       "                                     0    1\n",
       "0                          0,1,2,3,4,5  NaN\n",
       "1                 9,10,11,9,11,12,9,11  NaN\n",
       "2                    16,17,18,19,20,21  NaN\n",
       "3                       24,25,26,27,24  NaN\n",
       "4  34,35,36,34,37,35,36,37,38,39,38,39  NaN"
      ]
     },
     "execution_count": 4,
     "metadata": {},
     "output_type": "execute_result"
    }
   ],
   "source": [
    "data.head()"
   ]
  },
  {
   "cell_type": "code",
   "execution_count": 12,
   "metadata": {
    "collapsed": true
   },
   "outputs": [],
   "source": [
    "data.columns = ['view', 'buy']"
   ]
  },
  {
   "cell_type": "code",
   "execution_count": 13,
   "metadata": {
    "collapsed": true
   },
   "outputs": [],
   "source": [
    "view_freq = {}"
   ]
  },
  {
   "cell_type": "code",
   "execution_count": 14,
   "metadata": {
    "collapsed": true
   },
   "outputs": [],
   "source": [
    "for row in data.view.values:\n",
    "    r = list(row.split(','))\n",
    "    for i in r:\n",
    "        if view_freq.get(i) == None:\n",
    "            view_freq[i] = 1\n",
    "        else:\n",
    "            view_freq[i] += 1"
   ]
  },
  {
   "cell_type": "code",
   "execution_count": 15,
   "metadata": {},
   "outputs": [
    {
     "name": "stdout",
     "output_type": "stream",
     "text": [
      "73   677\n",
      "158   641\n",
      "204   396\n",
      "262   387\n",
      "162   318\n",
      "7   312\n",
      "137   306\n",
      "1185   284\n",
      "6   283\n",
      "170   280\n"
     ]
    }
   ],
   "source": [
    "keys = sorted(view_freq, key=view_freq.get, reverse=True)\n",
    "for k in keys[:10]:\n",
    "    print k, ' ', view_freq[k]"
   ]
  },
  {
   "cell_type": "code",
   "execution_count": 17,
   "metadata": {
    "collapsed": true
   },
   "outputs": [],
   "source": [
    "buy_freq = {}\n",
    "for row in data.buy.dropna().values:\n",
    "    r = list(row.split(','))\n",
    "    for i in r:\n",
    "        if buy_freq.get(i) == None:\n",
    "            buy_freq[i] = 1\n",
    "        else:\n",
    "            buy_freq[i] += 1"
   ]
  },
  {
   "cell_type": "code",
   "execution_count": 19,
   "metadata": {},
   "outputs": [
    {
     "name": "stdout",
     "output_type": "stream",
     "text": [
      "158   14\n",
      "204   12\n",
      "3324   11\n",
      "73   11\n",
      "977   10\n",
      "5569   10\n",
      "3149   10\n",
      "1181   9\n",
      "162   8\n",
      "1852   7\n"
     ]
    }
   ],
   "source": [
    "keys1 = sorted(buy_freq, key=buy_freq.get, reverse=True)\n",
    "for k in keys1[:10]:\n",
    "    print k, ' ', buy_freq[k]"
   ]
  },
  {
   "cell_type": "code",
   "execution_count": 20,
   "metadata": {
    "collapsed": true
   },
   "outputs": [],
   "source": [
    "def drop_dup(s):\n",
    "    l = list(s.split(','))\n",
    "    res = []\n",
    "    for i in l:\n",
    "        if i not in res:\n",
    "            res.append(i)\n",
    "            \n",
    "    return \",\".join(res)"
   ]
  },
  {
   "cell_type": "code",
   "execution_count": 21,
   "metadata": {},
   "outputs": [
    {
     "name": "stderr",
     "output_type": "stream",
     "text": [
      "C:\\ProgramData\\Anaconda2\\lib\\site-packages\\pandas\\core\\generic.py:2999: SettingWithCopyWarning: \n",
      "A value is trying to be set on a copy of a slice from a DataFrame.\n",
      "Try using .loc[row_indexer,col_indexer] = value instead\n",
      "\n",
      "See the caveats in the documentation: http://pandas.pydata.org/pandas-docs/stable/indexing.html#indexing-view-versus-copy\n",
      "  self[name] = value\n"
     ]
    },
    {
     "data": {
      "text/html": [
       "<div>\n",
       "<style>\n",
       "    .dataframe thead tr:only-child th {\n",
       "        text-align: right;\n",
       "    }\n",
       "\n",
       "    .dataframe thead th {\n",
       "        text-align: left;\n",
       "    }\n",
       "\n",
       "    .dataframe tbody tr th {\n",
       "        vertical-align: top;\n",
       "    }\n",
       "</style>\n",
       "<table border=\"1\" class=\"dataframe\">\n",
       "  <thead>\n",
       "    <tr style=\"text-align: right;\">\n",
       "      <th></th>\n",
       "      <th>view</th>\n",
       "      <th>buy</th>\n",
       "    </tr>\n",
       "  </thead>\n",
       "  <tbody>\n",
       "    <tr>\n",
       "      <th>7</th>\n",
       "      <td>59,60,61,62,63,64,65,66,67,68</td>\n",
       "      <td>67,60,63</td>\n",
       "    </tr>\n",
       "    <tr>\n",
       "      <th>10</th>\n",
       "      <td>84,85,86,87,88,89,90,91,92,93</td>\n",
       "      <td>86</td>\n",
       "    </tr>\n",
       "    <tr>\n",
       "      <th>19</th>\n",
       "      <td>138,198,199,127</td>\n",
       "      <td>199</td>\n",
       "    </tr>\n",
       "    <tr>\n",
       "      <th>30</th>\n",
       "      <td>303,304,305,306,307,308,309,310,311,312</td>\n",
       "      <td>303</td>\n",
       "    </tr>\n",
       "    <tr>\n",
       "      <th>33</th>\n",
       "      <td>352,353</td>\n",
       "      <td>352</td>\n",
       "    </tr>\n",
       "  </tbody>\n",
       "</table>\n",
       "</div>"
      ],
      "text/plain": [
       "                                       view       buy\n",
       "7             59,60,61,62,63,64,65,66,67,68  67,60,63\n",
       "10            84,85,86,87,88,89,90,91,92,93        86\n",
       "19                          138,198,199,127       199\n",
       "30  303,304,305,306,307,308,309,310,311,312       303\n",
       "33                                  352,353       352"
      ]
     },
     "execution_count": 21,
     "metadata": {},
     "output_type": "execute_result"
    }
   ],
   "source": [
    "filtered = data.dropna()\n",
    "filtered.view = filtered.view.apply(drop_dup)\n",
    "filtered.head()"
   ]
  },
  {
   "cell_type": "code",
   "execution_count": 22,
   "metadata": {
    "collapsed": true
   },
   "outputs": [],
   "source": [
    "def getSorted(s, d):\n",
    "    l = [x.strip() for x in s.split(',')]\n",
    "    tuples = []\n",
    "    for i in l:\n",
    "        if d.get(i) == None:\n",
    "            tuples.append((0, i))\n",
    "        else:\n",
    "            tuples.append((d[i], i))\n",
    "    ht = lambda x, y : y[0] - x[0] if x[0] != y[0] else l.index(x[1]) - l.index(y[1])\n",
    "    return sorted(tuples, cmp=ht)\n",
    "\n",
    "def suggest5view(s):\n",
    "    rec = getSorted(s, view_freq)\n",
    "    if len(rec) > 5:\n",
    "        return map(lambda x : x[1], rec[:5])\n",
    "    else:\n",
    "        return map(lambda x : x[1], rec)\n",
    "\n",
    "def suggest5buy(s):\n",
    "    rec = getSorted(s, buy_freq)\n",
    "    if len(rec) > 5:\n",
    "        return map(lambda x : x[1], rec[:5])\n",
    "    else:\n",
    "        return map(lambda x : x[1], rec)"
   ]
  },
  {
   "cell_type": "code",
   "execution_count": 24,
   "metadata": {
    "collapsed": true
   },
   "outputs": [],
   "source": [
    "ap1 = []\n",
    "ap5 = []\n",
    "ar1 = []\n",
    "ar5 = []\n",
    "ap1buy = []\n",
    "ap5buy = []\n",
    "ar1buy = []\n",
    "ar5buy = []\n",
    "for row in filtered.iterrows():\n",
    "    res = suggest5view(row[1]['view'])\n",
    "    one = res[0]\n",
    "    buy_l = [x.strip() for x in row[1]['buy'].split(',')]\n",
    "    p1 = 1 if one in buy_l else 0\n",
    "    r1 = (float(p1)) / len(buy_l)\n",
    "    nom = sum([1 if x in buy_l else 0 for x in res])\n",
    "    p5 = float(nom) / 5\n",
    "    r5 = float(nom) / len(buy_l)\n",
    "    ap1.append(p1)\n",
    "    ap5.append(p5)\n",
    "    ar1.append(r1)\n",
    "    ar5.append(r5)\n",
    "    \n",
    "    res_buy = suggest5buy(row[1]['view'])\n",
    "    one_buy = res_buy[0]\n",
    "    p1_buy = 1 if one_buy in buy_l else 0\n",
    "    r1_buy = (float(p1_buy)) / len(buy_l)\n",
    "    nom = sum([1 if x in buy_l else 0 for x in res_buy])\n",
    "    p5_buy = float(nom) / 5\n",
    "    r5_buy = float(nom) / len(buy_l)\n",
    "    ap1buy.append(p1_buy)\n",
    "    ap5buy.append(p5_buy)\n",
    "    ar1buy.append(r1_buy)\n",
    "    ar5buy.append(r5_buy)"
   ]
  },
  {
   "cell_type": "code",
   "execution_count": 25,
   "metadata": {
    "collapsed": true
   },
   "outputs": [],
   "source": [
    "def writeArr(arr, filename):\n",
    "    with open(filename, \"w\") as f:\n",
    "        res = \" \".join(map(str, arr))\n",
    "        f.write(res)"
   ]
  },
  {
   "cell_type": "code",
   "execution_count": 35,
   "metadata": {
    "collapsed": true
   },
   "outputs": [],
   "source": [
    "arg = [sum(ar1) / float(len(ar1)),\n",
    "       sum(ap1) / float(len(ap1)),\n",
    "       sum(ar5) / float(len(ar5)),\n",
    "       sum(ap5) / float(len(ap5))]\n",
    "writeArr(arg, \"train_res_view.txt\")"
   ]
  },
  {
   "cell_type": "code",
   "execution_count": 36,
   "metadata": {
    "collapsed": true
   },
   "outputs": [],
   "source": [
    "arg = [sum(ar1buy) / float(len(ar1buy)),\n",
    "       sum(ap1buy) / float(len(ap1buy)),\n",
    "       sum(ar5buy) / float(len(ar5buy)),\n",
    "       sum(ap5buy) / float(len(ap5buy))]\n",
    "writeArr(arg, \"train_res_buy.txt\")"
   ]
  },
  {
   "cell_type": "code",
   "execution_count": 37,
   "metadata": {},
   "outputs": [
    {
     "data": {
      "text/html": [
       "<div>\n",
       "<style>\n",
       "    .dataframe thead tr:only-child th {\n",
       "        text-align: right;\n",
       "    }\n",
       "\n",
       "    .dataframe thead th {\n",
       "        text-align: left;\n",
       "    }\n",
       "\n",
       "    .dataframe tbody tr th {\n",
       "        vertical-align: top;\n",
       "    }\n",
       "</style>\n",
       "<table border=\"1\" class=\"dataframe\">\n",
       "  <thead>\n",
       "    <tr style=\"text-align: right;\">\n",
       "      <th></th>\n",
       "      <th>0</th>\n",
       "      <th>1</th>\n",
       "    </tr>\n",
       "  </thead>\n",
       "  <tbody>\n",
       "    <tr>\n",
       "      <th>0</th>\n",
       "      <td>6,7,8</td>\n",
       "      <td>NaN</td>\n",
       "    </tr>\n",
       "    <tr>\n",
       "      <th>1</th>\n",
       "      <td>13,14,15</td>\n",
       "      <td>NaN</td>\n",
       "    </tr>\n",
       "    <tr>\n",
       "      <th>2</th>\n",
       "      <td>22,23</td>\n",
       "      <td>NaN</td>\n",
       "    </tr>\n",
       "    <tr>\n",
       "      <th>3</th>\n",
       "      <td>28,29,30,31,32,33</td>\n",
       "      <td>NaN</td>\n",
       "    </tr>\n",
       "    <tr>\n",
       "      <th>4</th>\n",
       "      <td>40,41</td>\n",
       "      <td>NaN</td>\n",
       "    </tr>\n",
       "  </tbody>\n",
       "</table>\n",
       "</div>"
      ],
      "text/plain": [
       "                   0    1\n",
       "0              6,7,8  NaN\n",
       "1           13,14,15  NaN\n",
       "2              22,23  NaN\n",
       "3  28,29,30,31,32,33  NaN\n",
       "4              40,41  NaN"
      ]
     },
     "execution_count": 37,
     "metadata": {},
     "output_type": "execute_result"
    }
   ],
   "source": [
    "test = pd.read_csv(\"coursera_sessions_test.txt\", sep=';', header=None)\n",
    "test[:5]"
   ]
  },
  {
   "cell_type": "code",
   "execution_count": 38,
   "metadata": {},
   "outputs": [
    {
     "data": {
      "text/html": [
       "<div>\n",
       "<style>\n",
       "    .dataframe thead tr:only-child th {\n",
       "        text-align: right;\n",
       "    }\n",
       "\n",
       "    .dataframe thead th {\n",
       "        text-align: left;\n",
       "    }\n",
       "\n",
       "    .dataframe tbody tr th {\n",
       "        vertical-align: top;\n",
       "    }\n",
       "</style>\n",
       "<table border=\"1\" class=\"dataframe\">\n",
       "  <thead>\n",
       "    <tr style=\"text-align: right;\">\n",
       "      <th></th>\n",
       "      <th>view</th>\n",
       "      <th>buy</th>\n",
       "    </tr>\n",
       "  </thead>\n",
       "  <tbody>\n",
       "    <tr>\n",
       "      <th>7</th>\n",
       "      <td>63,68,69,70,66,61,59</td>\n",
       "      <td>66,63</td>\n",
       "    </tr>\n",
       "    <tr>\n",
       "      <th>14</th>\n",
       "      <td>158,159,160,161,162</td>\n",
       "      <td>162</td>\n",
       "    </tr>\n",
       "    <tr>\n",
       "      <th>19</th>\n",
       "      <td>200,201,202,203,204</td>\n",
       "      <td>201,205</td>\n",
       "    </tr>\n",
       "    <tr>\n",
       "      <th>34</th>\n",
       "      <td>371,372</td>\n",
       "      <td>371,373</td>\n",
       "    </tr>\n",
       "    <tr>\n",
       "      <th>40</th>\n",
       "      <td>422</td>\n",
       "      <td>422</td>\n",
       "    </tr>\n",
       "  </tbody>\n",
       "</table>\n",
       "</div>"
      ],
      "text/plain": [
       "                    view      buy\n",
       "7   63,68,69,70,66,61,59    66,63\n",
       "14   158,159,160,161,162      162\n",
       "19   200,201,202,203,204  201,205\n",
       "34               371,372  371,373\n",
       "40                   422      422"
      ]
     },
     "execution_count": 38,
     "metadata": {},
     "output_type": "execute_result"
    }
   ],
   "source": [
    "test.columns = ['view', 'buy']\n",
    "test_filt = test.dropna()\n",
    "test_filt.view = test_filt.view.apply(drop_dup)\n",
    "test_filt.head()"
   ]
  },
  {
   "cell_type": "code",
   "execution_count": 39,
   "metadata": {
    "collapsed": true
   },
   "outputs": [],
   "source": [
    "ap1 = []\n",
    "ap5 = []\n",
    "ar1 = []\n",
    "ar5 = []\n",
    "ap1buy = []\n",
    "ap5buy = []\n",
    "ar1buy = []\n",
    "ar5buy = []\n",
    "for row in test_filt.iterrows():\n",
    "    res = suggest5view(row[1]['view'])\n",
    "    one = res[0]\n",
    "    buy_l = [x.strip() for x in row[1]['buy'].split(',')]\n",
    "    p1 = 1 if one in buy_l else 0\n",
    "    r1 = (float(p1)) / len(buy_l)\n",
    "    nom = sum([1 if x in buy_l else 0 for x in res])\n",
    "    p5 = float(nom) / 5\n",
    "    r5 = float(nom) / len(buy_l)\n",
    "    ap1.append(p1)\n",
    "    ap5.append(p5)\n",
    "    ar1.append(r1)\n",
    "    ar5.append(r5)\n",
    "    \n",
    "    res_buy = suggest5buy(row[1]['view'])\n",
    "    one_buy = res_buy[0]\n",
    "    p1_buy = 1 if one_buy in buy_l else 0\n",
    "    r1_buy = (float(p1_buy)) / len(buy_l)\n",
    "    nom = sum([1 if x in buy_l else 0 for x in res_buy])\n",
    "    p5_buy = float(nom) / 5\n",
    "    r5_buy = float(nom) / len(buy_l)\n",
    "    ap1buy.append(p1_buy)\n",
    "    ap5buy.append(p5_buy)\n",
    "    ar1buy.append(r1_buy)\n",
    "    ar5buy.append(r5_buy)  \n"
   ]
  },
  {
   "cell_type": "code",
   "execution_count": 41,
   "metadata": {
    "collapsed": true
   },
   "outputs": [],
   "source": [
    "arg = [sum(ar1) / float(len(ar1)),\n",
    "       sum(ap1) / float(len(ap1)),\n",
    "       sum(ar5) / float(len(ar5)),\n",
    "       sum(ap5) / float(len(ap5))]\n",
    "writeArr(arg, \"test_res_view.txt\")"
   ]
  },
  {
   "cell_type": "code",
   "execution_count": 42,
   "metadata": {
    "collapsed": true
   },
   "outputs": [],
   "source": [
    "arg = [sum(ar1buy) / float(len(ar1buy)),\n",
    "       sum(ap1buy) / float(len(ap1buy)),\n",
    "       sum(ar5buy) / float(len(ar5buy)),\n",
    "       sum(ap5buy) / float(len(ap5buy))]\n",
    "writeArr(arg, \"test_res_buy.txt\")"
   ]
  },
  {
   "cell_type": "code",
   "execution_count": 31,
   "metadata": {},
   "outputs": [
    {
     "name": "stdout",
     "output_type": "stream",
     "text": [
      "['67', '60', '63']\n",
      "['86']\n",
      "['199']\n",
      "['303']\n",
      "['352']\n",
      "['519']\n",
      "['603', '604', '602', '599', '605', '606', '600']\n",
      "['690', '688']\n",
      "['851']\n",
      "['879']\n",
      "['1118']\n",
      "['1545']\n",
      "['1727']\n",
      "['99']\n",
      "['1907']\n",
      "['1959']\n",
      "['1998']\n",
      "['2013']\n",
      "['2019']\n",
      "['2462']\n",
      "['2520']\n",
      "['2543']\n",
      "['1526']\n",
      "['2764']\n",
      "['2857', '2853', '2852']\n",
      "['2920']\n",
      "['2930']\n",
      "['3033', '3026', '3032', '3031']\n",
      "['3102', '3100', '1260']\n",
      "['3204', '3207', '3217']\n",
      "['3267']\n",
      "['3443']\n",
      "['3529']\n",
      "['3584', '3564', '3612', '3623', '3645', '3561']\n",
      "['1662']\n",
      "['3741']\n",
      "['3979']\n",
      "['4216']\n",
      "['4246']\n",
      "['4298']\n",
      "['3066']\n",
      "['4512']\n",
      "['4750']\n",
      "['4815']\n",
      "['5058']\n",
      "['5066']\n",
      "['5134', '5135']\n",
      "['5183', '970']\n",
      "['5209']\n",
      "['805']\n",
      "605   1\n",
      "604   1\n",
      "3612   1\n",
      "606   1\n",
      "199   1\n",
      "600   1\n",
      "603   1\n",
      "602   1\n",
      "599   1\n",
      "2920   1\n"
     ]
    }
   ],
   "source": [
    "check = {}\n",
    "for row in data.buy.dropna()[:50].values:\n",
    "    l = [x.strip() for x in str(row).split(',')]\n",
    "    print l\n",
    "    for i in l:\n",
    "        if check.get(i) == None:\n",
    "            check[i] = 1\n",
    "        else:\n",
    "            check[i] += 1\n",
    "            \n",
    "keys = sorted(check, key=check.get, reverse=True)\n",
    "for k in keys[:10]:\n",
    "    print k, ' ', check[k]"
   ]
  },
  {
   "cell_type": "code",
   "execution_count": null,
   "metadata": {
    "collapsed": true
   },
   "outputs": [],
   "source": []
  }
 ],
 "metadata": {
  "kernelspec": {
   "display_name": "Python 2",
   "language": "python",
   "name": "python2"
  },
  "language_info": {
   "codemirror_mode": {
    "name": "ipython",
    "version": 2
   },
   "file_extension": ".py",
   "mimetype": "text/x-python",
   "name": "python",
   "nbconvert_exporter": "python",
   "pygments_lexer": "ipython2",
   "version": "2.7.13"
  }
 },
 "nbformat": 4,
 "nbformat_minor": 2
}
